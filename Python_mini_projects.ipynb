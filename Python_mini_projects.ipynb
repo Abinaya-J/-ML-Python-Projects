{
  "nbformat": 4,
  "nbformat_minor": 0,
  "metadata": {
    "colab": {
      "name": "Python mini-projects.ipynb",
      "provenance": []
    },
    "kernelspec": {
      "name": "python3",
      "display_name": "Python 3"
    },
    "language_info": {
      "name": "python"
    }
  },
  "cells": [
    {
      "cell_type": "code",
      "metadata": {
        "colab": {
          "base_uri": "https://localhost:8080/"
        },
        "id": "bRNmWfxY8il8",
        "outputId": "c43354a5-f45b-44ca-d66e-704d9d23c7ae"
      },
      "source": [
        "#Crypto machine\n",
        "\n",
        "def crypto():\n",
        "# create keys string\n",
        "    keys = 'abcdefghijklmnopqrstuvwxyz !'\n",
        "# autogenerate the numeric values that correspond to keys in the input message\n",
        "    values = keys[-1] + keys[0:-1]\n",
        "    #print(keys)\n",
        "    #print(values)\n",
        "# create two dictionaries\n",
        "    dict_e = dict(zip(keys,values))\n",
        "    dict_d = dict(zip(values,keys)) \n",
        "# OR create 1 and then flip \n",
        "    #dict_e = dict(zip(keys,values))\n",
        "    #dict_d = {value:key for key, value in dict_e.items()}\n",
        "#user input 'the message' and mode\n",
        "    msg = input('Enter your secret message: ')\n",
        "    mode = input('Crypto mode: encode (e) OR decrypt (d) as default: ')\n",
        "# run encode or decode\n",
        "    if mode.lower() == 'e':\n",
        "        new_msg = ''.join([dict_e[value] for value in msg.lower()])\n",
        "    else:\n",
        "        new_msg = ''.join([dict_d[value] for value in msg.lower()])\n",
        "    \n",
        "    return new_msg.capitalize()\n",
        "# return result\n",
        "# clean and beautify the code \n",
        "\n",
        "print(crypto())"
      ],
      "execution_count": null,
      "outputs": [
        {
          "output_type": "stream",
          "text": [
            "Enter your secret message: game\n",
            "Crypto mode: encode (e) OR decrypt (d) as default: e\n",
            "F!ld\n"
          ],
          "name": "stdout"
        }
      ]
    },
    {
      "cell_type": "code",
      "metadata": {
        "id": "dJMGxyna8tUu",
        "colab": {
          "base_uri": "https://localhost:8080/"
        },
        "outputId": "db02d12d-307e-4d99-afbb-86ad7b68b941"
      },
      "source": [
        "#Math Practice\n",
        "\n",
        "#import modules\n",
        "from  random import randrange as r \n",
        "from time import time as t\n",
        "#user inputs the number of questions and the highest timetable to consider, and these need to be converted to integers\n",
        "no_questions = int(input('How many questions do you want?: '))\n",
        "max_n =int(input('Highest multiplication tables to use in the practice questions: '))\n",
        "#set total score to start at zero\n",
        "total_score = 0\n",
        "answers= []\n",
        "start = t()\n",
        "# loop through number of questions\n",
        "for q in range(no_questions):\n",
        "    # create two random numbers and calculate the correct answer\n",
        "    n1,n2 = r(1,max_n + 1),r(1,max_n + 1)\n",
        "    ans = n1 * n2\n",
        "\n",
        "    # show user the question so they can enter in their answer\n",
        "    user_ans =int(input(f'{n1} X {n2} = '))\n",
        "\n",
        "    # capture answer and modify user score\n",
        "    answers.append(f'{n1} X {n2} = {ans} and your answer was:{user_ans}')\n",
        "    if user_ans == ans:\n",
        "        total_score += 1\n",
        "    end = t()\n",
        "\n",
        "# output the time the user took to answer all questions and the average time taken per question too with the final score\n",
        "print(f'Hope you enjoyed practicing!! \\nYou got {total_score} out of {no_questions} ({round(total_score/no_questions*100)}%) correct in {round(end-start,1)} seconds with an average time of ({round((end-start)/no_questions,1)}seconds/question)')\n",
        "# display the correct answers and the user's answers for each question\n",
        "for a in answers:\n",
        "    print(a)\n"
      ],
      "execution_count": null,
      "outputs": [
        {
          "output_type": "stream",
          "text": [
            "How many questions do you want?: 4\n",
            "Highest multiplication tables to use in the practice questions: 10\n",
            "4 X 2 = 8\n",
            "4 X 6 = 24\n",
            "9 X 2 = 18\n",
            "6 X 1 = 6\n",
            "Hope you enjoyed practicing!! \n",
            "You got 4 out of 4 (100%) correct in 8.2 seconds with an average time of (2.1seconds/question)\n",
            "4 X 2 = 8 and your answer was:8\n",
            "4 X 6 = 24 and your answer was:24\n",
            "9 X 2 = 18 and your answer was:18\n",
            "6 X 1 = 6 and your answer was:6\n"
          ],
          "name": "stdout"
        }
      ]
    },
    {
      "cell_type": "code",
      "metadata": {
        "id": "CrxAIOwZzPyA",
        "colab": {
          "base_uri": "https://localhost:8080/"
        },
        "outputId": "ded967ee-f50d-4708-f6a5-38eb192c685a"
      },
      "source": [
        "#Marble trading game\n",
        "\n",
        "\n",
        "#import modules\n",
        "#create a bag with 10 marbles, g=green, r=red, b=10x, w = -5x\n",
        "#starting amount of money\n",
        "# current money amount\n",
        "#money won or lost in the previous round\n",
        "#how many rounds\n",
        "#last marble\n",
        "# welcome user to game\n",
        "# for loop to draw marbles in each round and generate the result\n",
        "    #ask user how much they want to bet\n",
        "    #stop the game is user doesn't want to bet anything\n",
        "    #draw marble\n",
        "    # win or loss\n",
        "    #calc new current amount\n",
        "    #player loses the game if they lose half of the initial amount/money\n",
        "    #print results\n",
        "# print final results and game stops\n",
        "\n",
        "\n",
        "\n",
        "#import modules\n",
        "import random\n",
        "#create a bag with 10 marbles, g=green, r=red, b=10x, w = -5x\n",
        "bag = ('g','r','g','r','b','g','g','w', 'g','r')\n",
        "#starting amount of money\n",
        "init_amt = 1000\n",
        "# current money amount\n",
        "curr_amt = init_amt\n",
        "#money won or lost in the previous round\n",
        "win_or_loss = 0\n",
        "#how many rounds\n",
        "rounds = 20\n",
        "#last marble\n",
        "marble = 'none'\n",
        "# welcome user to game\n",
        "print(f'Welcome to the marble tradng game!!May you win all you wish for!!You start the game with {init_amt} euros')\n",
        "\n",
        "\n",
        "# for loop to draw marbles in each round and generate the result\n",
        "for draw in range(1,rounds+1):\n",
        "    #ask user how much they want to bet\n",
        "    bet = int(input(f'Current Amount: {curr_amt} Last draw: {marble} \\nRound {draw} - How much do you want to bet?: '))\n",
        "    #stop the game is user doesn't want to bet anything\n",
        "    if bet == 0:\n",
        "      break\n",
        "    #draw marble\n",
        "    marble = random.choice(bag)\n",
        "    # win or loss\n",
        "    if marble == 'g':\n",
        "      win_or_loss = bet\n",
        "    elif marble == 'b':\n",
        "      win_or_loss = 10 * bet\n",
        "    elif marble == 'w':\n",
        "      win_or_loss = -5 * bet\n",
        "    else:\n",
        "      win_or_loss = -bet\n",
        "    #calc new current amount\n",
        "    curr_amt += win_or_loss\n",
        "    #player loses the game if they lose half of the initial amount/money\n",
        "    if curr_amt < 0.5 * init_amt:\n",
        "        print(f'The game is over! You shouldnt be betting anymore, you have already lost more than half your money!!!')\n",
        "        break\n",
        "    #print results\n",
        "    print(f'Current Amount: {curr_amt}, last draw: ({marble}): {win_or_loss}')\n",
        "    print('')\n",
        "# print final results and game stops\n",
        "print('Initial/ current amounts: ', init_amt, '/',curr_amt)\n",
        "print('Total gained/lost: ', ((curr_amt-init_amt)/init_amt *100),'%')\n"
      ],
      "execution_count": null,
      "outputs": [
        {
          "output_type": "stream",
          "text": [
            "Welcome to the marble tradng game!!May you win all you wish for!!You start the game with 1000 euros\n",
            "Current Amount: 1000 Last draw: none \n",
            "Round 1 - How much do you want to bet?: 20\n",
            "Current Amount: 1020, last draw: (g): 20\n",
            "\n",
            "Current Amount: 1020 Last draw: g \n",
            "Round 2 - How much do you want to bet?: 0\n",
            "Initial/ current amounts:  1000 / 1020\n",
            "Total gained/lost:  2.0 %\n"
          ],
          "name": "stdout"
        }
      ]
    }
  ]
}